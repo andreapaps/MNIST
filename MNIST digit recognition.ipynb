{
 "cells": [
  {
   "cell_type": "code",
   "execution_count": 1,
   "id": "bff3c082",
   "metadata": {},
   "outputs": [],
   "source": [
    "#MNIST\n",
    "\n",
    "import pandas as pd\n",
    "import numpy as np\n",
    "import matplotlib.pyplot as plt\n",
    "import seaborn as sns\n",
    "import math\n",
    "import random\n",
    "\n",
    "# might be needed depending on your version of Jupyter\n",
    "%matplotlib inline"
   ]
  },
  {
   "cell_type": "code",
   "execution_count": 16,
   "id": "ee95a050",
   "metadata": {},
   "outputs": [],
   "source": [
    "train = pd.read_csv('MNISTtrain.csv')\n",
    "test = pd.read_csv('MNISTtest.csv')"
   ]
  },
  {
   "cell_type": "code",
   "execution_count": 17,
   "id": "efe988a7",
   "metadata": {},
   "outputs": [],
   "source": [
    "X = train.drop(['label'],axis=1)\n",
    "y = train['label']\n"
   ]
  },
  {
   "cell_type": "code",
   "execution_count": 18,
   "id": "028a039a",
   "metadata": {},
   "outputs": [
    {
     "data": {
      "text/plain": [
       "RandomForestClassifier()"
      ]
     },
     "execution_count": 18,
     "metadata": {},
     "output_type": "execute_result"
    }
   ],
   "source": [
    "#test has no label\n",
    "from sklearn.model_selection import train_test_split\n",
    "X_train, X_test, y_train, y_test = train_test_split(X, y, test_size=0.30)\n",
    "\n",
    "from sklearn.metrics import classification_report,confusion_matrix\n",
    "from sklearn.ensemble import RandomForestClassifier\n",
    "\n",
    "rfc = RandomForestClassifier(n_estimators=100)\n",
    "rfc.fit(X_train, y_train)"
   ]
  },
  {
   "cell_type": "code",
   "execution_count": 19,
   "id": "6cd9c225",
   "metadata": {},
   "outputs": [],
   "source": [
    "predictions = rfc.predict(X_test)"
   ]
  },
  {
   "cell_type": "code",
   "execution_count": 20,
   "id": "650fa724",
   "metadata": {},
   "outputs": [
    {
     "name": "stdout",
     "output_type": "stream",
     "text": [
      "[[1202    0    1    2    2    1    3    0    9    0]\n",
      " [   0 1414    5    4    4    1    2    5    4    1]\n",
      " [   4    5 1168    3    8    0    4   10    6    2]\n",
      " [   1    4   22 1270    1   13    4   12   16    1]\n",
      " [   1    3    1    0 1178    0    7    1    3   26]\n",
      " [   4    0    1   25    4 1102    8    2   10    8]\n",
      " [   8    3    0    0    2    8 1203    0    4    0]\n",
      " [   3    4   13    2   10    0    0 1328    3   17]\n",
      " [   3    7    6   14    3    8    3    0 1132    8]\n",
      " [   4    1    3   20   20    5    2   12    8 1135]]\n",
      "\n",
      "              precision    recall  f1-score   support\n",
      "\n",
      "           0       0.98      0.99      0.98      1220\n",
      "           1       0.98      0.98      0.98      1440\n",
      "           2       0.96      0.97      0.96      1210\n",
      "           3       0.95      0.94      0.95      1344\n",
      "           4       0.96      0.97      0.96      1220\n",
      "           5       0.97      0.95      0.96      1164\n",
      "           6       0.97      0.98      0.98      1228\n",
      "           7       0.97      0.96      0.97      1380\n",
      "           8       0.95      0.96      0.95      1184\n",
      "           9       0.95      0.94      0.94      1210\n",
      "\n",
      "    accuracy                           0.96     12600\n",
      "   macro avg       0.96      0.96      0.96     12600\n",
      "weighted avg       0.96      0.96      0.96     12600\n",
      "\n"
     ]
    }
   ],
   "source": [
    "print(confusion_matrix(y_test,predictions))\n",
    "print('')\n",
    "print(classification_report(y_test,predictions))"
   ]
  },
  {
   "cell_type": "code",
   "execution_count": 22,
   "id": "ba302746",
   "metadata": {},
   "outputs": [],
   "source": [
    "solution = rfc.predict(test)"
   ]
  },
  {
   "cell_type": "code",
   "execution_count": 23,
   "id": "fcda26b8",
   "metadata": {},
   "outputs": [
    {
     "data": {
      "text/plain": [
       "array([2, 0, 9, ..., 3, 9, 2], dtype=int64)"
      ]
     },
     "execution_count": 23,
     "metadata": {},
     "output_type": "execute_result"
    }
   ],
   "source": [
    "solution"
   ]
  },
  {
   "cell_type": "code",
   "execution_count": 24,
   "id": "049c4937",
   "metadata": {},
   "outputs": [
    {
     "name": "stderr",
     "output_type": "stream",
     "text": [
      "C:\\Users\\Andrea\\anaconda3\\lib\\site-packages\\seaborn\\_decorators.py:36: FutureWarning: Pass the following variable as a keyword arg: x. From version 0.12, the only valid positional argument will be `data`, and passing other arguments without an explicit keyword will result in an error or misinterpretation.\n",
      "  warnings.warn(\n"
     ]
    },
    {
     "data": {
      "text/plain": [
       "<AxesSubplot:ylabel='count'>"
      ]
     },
     "execution_count": 24,
     "metadata": {},
     "output_type": "execute_result"
    },
    {
     "data": {
      "image/png": "[encoded data removed]",
      "text/plain": [
       "<Figure size 432x288 with 1 Axes>"
      ]
     },
     "metadata": {
      "needs_background": "light"
     },
     "output_type": "display_data"
    }
   ],
   "source": [
    "sns.countplot(solution)"
   ]
  },
  {
   "cell_type": "code",
   "execution_count": 25,
   "id": "32e6793a",
   "metadata": {},
   "outputs": [
    {
     "data": {
      "text/plain": [
       "'C:\\\\Users\\\\Andrea'"
      ]
     },
     "execution_count": 25,
     "metadata": {},
     "output_type": "execute_result"
    }
   ],
   "source": [
    "pwd"
   ]
  },
  {
   "cell_type": "code",
   "execution_count": null,
   "id": "a5c53558",
   "metadata": {},
   "outputs": [],
   "source": []
  }
 ],
 "metadata": {
  "kernelspec": {
   "display_name": "Python 3",
   "language": "python",
   "name": "python3"
  },
  "language_info": {
   "codemirror_mode": {
    "name": "ipython",
    "version": 3
   },
   "file_extension": ".py",
   "mimetype": "text/x-python",
   "name": "python",
   "nbconvert_exporter": "python",
   "pygments_lexer": "ipython3",
   "version": "3.8.8"
  }
 },
 "nbformat": 4,
 "nbformat_minor": 5
}
